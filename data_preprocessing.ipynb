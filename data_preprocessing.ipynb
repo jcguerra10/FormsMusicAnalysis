{
 "cells": [
  {
   "cell_type": "code",
   "execution_count": null,
   "outputs": [],
   "source": [
    "import pandas as pd\n",
    "import numpy as np\n",
    "import matplotlib.pyplot as plt\n",
    "import seaborn as sns"
   ],
   "metadata": {
    "collapsed": false
   }
  },
  {
   "cell_type": "code",
   "execution_count": 5,
   "outputs": [
    {
     "data": {
      "text/plain": "                    Marca temporal  \\\n0  2023/03/12 12:43:01 p. m. GMT-5   \n1  2023/03/12 12:43:58 p. m. GMT-5   \n2  2023/03/12 12:45:52 p. m. GMT-5   \n3  2023/03/12 12:47:40 p. m. GMT-5   \n4  2023/03/12 12:49:52 p. m. GMT-5   \n\n  ¿Con qué frecuencia practicas tu instrumento o canto?  \\\n0                                       Casi siempre      \n1                                       Casi siempre      \n2                                       Casi siempre      \n3                                            A veces      \n4                                       Casi siempre      \n\n  ¿Qué tipo de recursos utilizas para estudiar música?  \\\n0                                      Libros;Videos     \n1                                      Libros;Videos     \n2                          Libros;Videos;Paginas web     \n3                                             Videos     \n4                                 Videos;Paginas web     \n\n  ¿Conoce estudios de grabación y de producción musical en la ciudad de Cali?  \\\n0                                                 Sí                            \n1                                                 Sí                            \n2                                                 Sí                            \n3                                                 Sí                            \n4                                                 Sí                            \n\n  ¿Ha asistido a estudios de grabación y/o de producción musical?  \\\n0                                                 Sí                \n1                                                 Sí                \n2                                                 Sí                \n3                                                 Sí                \n4                                                 Sí                \n\n  ¿Por qué no asistes a estudios de grabación y/o de producción musical?  \\\n0                                                NaN                       \n1                                                NaN                       \n2                                                NaN                       \n3                                                NaN                       \n4                                                NaN                       \n\n  ¿Piensas que el costo/beneficio de los estudios de grabación y/o de producción musical es justo?  \\\n0                                                NaN                                                 \n1                                                NaN                                                 \n2                                                NaN                                                 \n3                                                NaN                                                 \n4                                                NaN                                                 \n\n  ¿Que otras alternativas de estudios de grabación haz utilizado?  \\\n0                                                NaN                \n1                                                NaN                \n2                                                NaN                \n3                                                NaN                \n4                                                NaN                \n\n  ¿Que tan frecuente usa estos espacios?  \\\n0                                A veces   \n1                                Siempre   \n2                                A veces   \n3                                A veces   \n4                           Casi siempre   \n\n  ¿Piensas que los estudios de grabación y/o de producción musical da espacio para conocer a personas que puedan ayudar a tu crecimiento profesional?  \\\n0                                                 Sí                                                                                                    \n1                                                 Sí                                                                                                    \n2                                                 Sí                                                                                                    \n3                                                 Sí                                                                                                    \n4                                                 Sí                                                                                                    \n\n  ¿Piensas que el costo/beneficio de los estudios de grabación y/o de producción musical es justo?.1  \\\n0                                                 No                                                   \n1                                                 Sí                                                   \n2                                                 Sí                                                   \n3                                                 No                                                   \n4                                                 Sí                                                   \n\n  ¿Crees que hay suficientes oportunidades para los estudiantes de música para conectarse con otros músicos y colaborar en proyectos?  \n0                                                 No                                                                                   \n1                                                 No                                                                                   \n2                                                 Sí                                                                                   \n3                                                 Sí                                                                                   \n4                                                 No                                                                                   ",
      "text/html": "<div>\n<style scoped>\n    .dataframe tbody tr th:only-of-type {\n        vertical-align: middle;\n    }\n\n    .dataframe tbody tr th {\n        vertical-align: top;\n    }\n\n    .dataframe thead th {\n        text-align: right;\n    }\n</style>\n<table border=\"1\" class=\"dataframe\">\n  <thead>\n    <tr style=\"text-align: right;\">\n      <th></th>\n      <th>Marca temporal</th>\n      <th>¿Con qué frecuencia practicas tu instrumento o canto?</th>\n      <th>¿Qué tipo de recursos utilizas para estudiar música?</th>\n      <th>¿Conoce estudios de grabación y de producción musical en la ciudad de Cali?</th>\n      <th>¿Ha asistido a estudios de grabación y/o de producción musical?</th>\n      <th>¿Por qué no asistes a estudios de grabación y/o de producción musical?</th>\n      <th>¿Piensas que el costo/beneficio de los estudios de grabación y/o de producción musical es justo?</th>\n      <th>¿Que otras alternativas de estudios de grabación haz utilizado?</th>\n      <th>¿Que tan frecuente usa estos espacios?</th>\n      <th>¿Piensas que los estudios de grabación y/o de producción musical da espacio para conocer a personas que puedan ayudar a tu crecimiento profesional?</th>\n      <th>¿Piensas que el costo/beneficio de los estudios de grabación y/o de producción musical es justo?.1</th>\n      <th>¿Crees que hay suficientes oportunidades para los estudiantes de música para conectarse con otros músicos y colaborar en proyectos?</th>\n    </tr>\n  </thead>\n  <tbody>\n    <tr>\n      <th>0</th>\n      <td>2023/03/12 12:43:01 p. m. GMT-5</td>\n      <td>Casi siempre</td>\n      <td>Libros;Videos</td>\n      <td>Sí</td>\n      <td>Sí</td>\n      <td>NaN</td>\n      <td>NaN</td>\n      <td>NaN</td>\n      <td>A veces</td>\n      <td>Sí</td>\n      <td>No</td>\n      <td>No</td>\n    </tr>\n    <tr>\n      <th>1</th>\n      <td>2023/03/12 12:43:58 p. m. GMT-5</td>\n      <td>Casi siempre</td>\n      <td>Libros;Videos</td>\n      <td>Sí</td>\n      <td>Sí</td>\n      <td>NaN</td>\n      <td>NaN</td>\n      <td>NaN</td>\n      <td>Siempre</td>\n      <td>Sí</td>\n      <td>Sí</td>\n      <td>No</td>\n    </tr>\n    <tr>\n      <th>2</th>\n      <td>2023/03/12 12:45:52 p. m. GMT-5</td>\n      <td>Casi siempre</td>\n      <td>Libros;Videos;Paginas web</td>\n      <td>Sí</td>\n      <td>Sí</td>\n      <td>NaN</td>\n      <td>NaN</td>\n      <td>NaN</td>\n      <td>A veces</td>\n      <td>Sí</td>\n      <td>Sí</td>\n      <td>Sí</td>\n    </tr>\n    <tr>\n      <th>3</th>\n      <td>2023/03/12 12:47:40 p. m. GMT-5</td>\n      <td>A veces</td>\n      <td>Videos</td>\n      <td>Sí</td>\n      <td>Sí</td>\n      <td>NaN</td>\n      <td>NaN</td>\n      <td>NaN</td>\n      <td>A veces</td>\n      <td>Sí</td>\n      <td>No</td>\n      <td>Sí</td>\n    </tr>\n    <tr>\n      <th>4</th>\n      <td>2023/03/12 12:49:52 p. m. GMT-5</td>\n      <td>Casi siempre</td>\n      <td>Videos;Paginas web</td>\n      <td>Sí</td>\n      <td>Sí</td>\n      <td>NaN</td>\n      <td>NaN</td>\n      <td>NaN</td>\n      <td>Casi siempre</td>\n      <td>Sí</td>\n      <td>Sí</td>\n      <td>No</td>\n    </tr>\n  </tbody>\n</table>\n</div>"
     },
     "execution_count": 5,
     "metadata": {},
     "output_type": "execute_result"
    }
   ],
   "source": [
    "df = pd.read_csv('./Data/forms.csv')\n",
    "df.head()"
   ],
   "metadata": {
    "collapsed": false
   }
  },
  {
   "cell_type": "code",
   "execution_count": 6,
   "outputs": [
    {
     "name": "stdout",
     "output_type": "stream",
     "text": [
      "<class 'pandas.core.frame.DataFrame'>\n",
      "RangeIndex: 37 entries, 0 to 36\n",
      "Data columns (total 12 columns):\n",
      " #   Column                                                                                                                                               Non-Null Count  Dtype \n",
      "---  ------                                                                                                                                               --------------  ----- \n",
      " 0   Marca temporal                                                                                                                                       37 non-null     object\n",
      " 1   ¿Con qué frecuencia practicas tu instrumento o canto?                                                                                                37 non-null     object\n",
      " 2   ¿Qué tipo de recursos utilizas para estudiar música?                                                                                                 37 non-null     object\n",
      " 3   ¿Conoce estudios de grabación y de producción musical en la ciudad de Cali?                                                                          37 non-null     object\n",
      " 4   ¿Ha asistido a estudios de grabación y/o de producción musical?                                                                                      37 non-null     object\n",
      " 5   ¿Por qué no asistes a estudios de grabación y/o de producción musical?                                                                               7 non-null      object\n",
      " 6   ¿Piensas que el costo/beneficio de los estudios de grabación y/o de producción musical es justo?                                                     7 non-null      object\n",
      " 7   ¿Que otras alternativas de estudios de grabación haz utilizado?                                                                                      7 non-null      object\n",
      " 8   ¿Que tan frecuente usa estos espacios?                                                                                                               30 non-null     object\n",
      " 9   ¿Piensas que los estudios de grabación y/o de producción musical da espacio para conocer a personas que puedan ayudar a tu crecimiento profesional?  30 non-null     object\n",
      " 10  ¿Piensas que el costo/beneficio de los estudios de grabación y/o de producción musical es justo?.1                                                   37 non-null     object\n",
      " 11  ¿Crees que hay suficientes oportunidades para los estudiantes de música para conectarse con otros músicos y colaborar en proyectos?                  37 non-null     object\n",
      "dtypes: object(12)\n",
      "memory usage: 3.6+ KB\n"
     ]
    }
   ],
   "source": [
    "df.info()"
   ],
   "metadata": {
    "collapsed": false
   }
  },
  {
   "cell_type": "code",
   "execution_count": 7,
   "outputs": [],
   "source": [
    "df_clean = df\n",
    "#drop column Marca temporal\n",
    "df_clean.drop('Marca temporal', axis=1, inplace=True)"
   ],
   "metadata": {
    "collapsed": false
   }
  },
  {
   "cell_type": "code",
   "execution_count": 11,
   "outputs": [],
   "source": [
    "#join data\n",
    "df_clean = pd.concat([df_clean, df_clean], ignore_index=True)"
   ],
   "metadata": {
    "collapsed": false
   }
  },
  {
   "cell_type": "code",
   "execution_count": 12,
   "outputs": [
    {
     "name": "stdout",
     "output_type": "stream",
     "text": [
      "<class 'pandas.core.frame.DataFrame'>\n",
      "RangeIndex: 74 entries, 0 to 73\n",
      "Data columns (total 11 columns):\n",
      " #   Column                                                                                                                                               Non-Null Count  Dtype \n",
      "---  ------                                                                                                                                               --------------  ----- \n",
      " 0   ¿Con qué frecuencia practicas tu instrumento o canto?                                                                                                74 non-null     object\n",
      " 1   ¿Qué tipo de recursos utilizas para estudiar música?                                                                                                 74 non-null     object\n",
      " 2   ¿Conoce estudios de grabación y de producción musical en la ciudad de Cali?                                                                          74 non-null     object\n",
      " 3   ¿Ha asistido a estudios de grabación y/o de producción musical?                                                                                      74 non-null     object\n",
      " 4   ¿Por qué no asistes a estudios de grabación y/o de producción musical?                                                                               14 non-null     object\n",
      " 5   ¿Piensas que el costo/beneficio de los estudios de grabación y/o de producción musical es justo?                                                     14 non-null     object\n",
      " 6   ¿Que otras alternativas de estudios de grabación haz utilizado?                                                                                      14 non-null     object\n",
      " 7   ¿Que tan frecuente usa estos espacios?                                                                                                               60 non-null     object\n",
      " 8   ¿Piensas que los estudios de grabación y/o de producción musical da espacio para conocer a personas que puedan ayudar a tu crecimiento profesional?  60 non-null     object\n",
      " 9   ¿Piensas que el costo/beneficio de los estudios de grabación y/o de producción musical es justo?.1                                                   74 non-null     object\n",
      " 10  ¿Crees que hay suficientes oportunidades para los estudiantes de música para conectarse con otros músicos y colaborar en proyectos?                  74 non-null     object\n",
      "dtypes: object(11)\n",
      "memory usage: 6.5+ KB\n"
     ]
    }
   ],
   "source": [
    "df_clean.info()"
   ],
   "metadata": {
    "collapsed": false
   }
  },
  {
   "cell_type": "code",
   "execution_count": 13,
   "outputs": [
    {
     "data": {
      "text/plain": "  ¿Con qué frecuencia practicas tu instrumento o canto?  \\\n0                                       Casi siempre      \n1                                       Casi siempre      \n2                                       Casi siempre      \n3                                            A veces      \n4                                       Casi siempre      \n\n  ¿Qué tipo de recursos utilizas para estudiar música?  \\\n0                                      Libros;Videos     \n1                                      Libros;Videos     \n2                          Libros;Videos;Paginas web     \n3                                             Videos     \n4                                 Videos;Paginas web     \n\n  ¿Conoce estudios de grabación y de producción musical en la ciudad de Cali?  \\\n0                                                 Sí                            \n1                                                 Sí                            \n2                                                 Sí                            \n3                                                 Sí                            \n4                                                 Sí                            \n\n  ¿Ha asistido a estudios de grabación y/o de producción musical?  \\\n0                                                 Sí                \n1                                                 Sí                \n2                                                 Sí                \n3                                                 Sí                \n4                                                 Sí                \n\n  ¿Por qué no asistes a estudios de grabación y/o de producción musical?  \\\n0                                                NaN                       \n1                                                NaN                       \n2                                                NaN                       \n3                                                NaN                       \n4                                                NaN                       \n\n  ¿Piensas que el costo/beneficio de los estudios de grabación y/o de producción musical es justo?  \\\n0                                                NaN                                                 \n1                                                NaN                                                 \n2                                                NaN                                                 \n3                                                NaN                                                 \n4                                                NaN                                                 \n\n  ¿Que otras alternativas de estudios de grabación haz utilizado?  \\\n0                                                NaN                \n1                                                NaN                \n2                                                NaN                \n3                                                NaN                \n4                                                NaN                \n\n  ¿Que tan frecuente usa estos espacios?  \\\n0                                A veces   \n1                                Siempre   \n2                                A veces   \n3                                A veces   \n4                           Casi siempre   \n\n  ¿Piensas que los estudios de grabación y/o de producción musical da espacio para conocer a personas que puedan ayudar a tu crecimiento profesional?  \\\n0                                                 Sí                                                                                                    \n1                                                 Sí                                                                                                    \n2                                                 Sí                                                                                                    \n3                                                 Sí                                                                                                    \n4                                                 Sí                                                                                                    \n\n  ¿Piensas que el costo/beneficio de los estudios de grabación y/o de producción musical es justo?.1  \\\n0                                                 No                                                   \n1                                                 Sí                                                   \n2                                                 Sí                                                   \n3                                                 No                                                   \n4                                                 Sí                                                   \n\n  ¿Crees que hay suficientes oportunidades para los estudiantes de música para conectarse con otros músicos y colaborar en proyectos?  \n0                                                 No                                                                                   \n1                                                 No                                                                                   \n2                                                 Sí                                                                                   \n3                                                 Sí                                                                                   \n4                                                 No                                                                                   ",
      "text/html": "<div>\n<style scoped>\n    .dataframe tbody tr th:only-of-type {\n        vertical-align: middle;\n    }\n\n    .dataframe tbody tr th {\n        vertical-align: top;\n    }\n\n    .dataframe thead th {\n        text-align: right;\n    }\n</style>\n<table border=\"1\" class=\"dataframe\">\n  <thead>\n    <tr style=\"text-align: right;\">\n      <th></th>\n      <th>¿Con qué frecuencia practicas tu instrumento o canto?</th>\n      <th>¿Qué tipo de recursos utilizas para estudiar música?</th>\n      <th>¿Conoce estudios de grabación y de producción musical en la ciudad de Cali?</th>\n      <th>¿Ha asistido a estudios de grabación y/o de producción musical?</th>\n      <th>¿Por qué no asistes a estudios de grabación y/o de producción musical?</th>\n      <th>¿Piensas que el costo/beneficio de los estudios de grabación y/o de producción musical es justo?</th>\n      <th>¿Que otras alternativas de estudios de grabación haz utilizado?</th>\n      <th>¿Que tan frecuente usa estos espacios?</th>\n      <th>¿Piensas que los estudios de grabación y/o de producción musical da espacio para conocer a personas que puedan ayudar a tu crecimiento profesional?</th>\n      <th>¿Piensas que el costo/beneficio de los estudios de grabación y/o de producción musical es justo?.1</th>\n      <th>¿Crees que hay suficientes oportunidades para los estudiantes de música para conectarse con otros músicos y colaborar en proyectos?</th>\n    </tr>\n  </thead>\n  <tbody>\n    <tr>\n      <th>0</th>\n      <td>Casi siempre</td>\n      <td>Libros;Videos</td>\n      <td>Sí</td>\n      <td>Sí</td>\n      <td>NaN</td>\n      <td>NaN</td>\n      <td>NaN</td>\n      <td>A veces</td>\n      <td>Sí</td>\n      <td>No</td>\n      <td>No</td>\n    </tr>\n    <tr>\n      <th>1</th>\n      <td>Casi siempre</td>\n      <td>Libros;Videos</td>\n      <td>Sí</td>\n      <td>Sí</td>\n      <td>NaN</td>\n      <td>NaN</td>\n      <td>NaN</td>\n      <td>Siempre</td>\n      <td>Sí</td>\n      <td>Sí</td>\n      <td>No</td>\n    </tr>\n    <tr>\n      <th>2</th>\n      <td>Casi siempre</td>\n      <td>Libros;Videos;Paginas web</td>\n      <td>Sí</td>\n      <td>Sí</td>\n      <td>NaN</td>\n      <td>NaN</td>\n      <td>NaN</td>\n      <td>A veces</td>\n      <td>Sí</td>\n      <td>Sí</td>\n      <td>Sí</td>\n    </tr>\n    <tr>\n      <th>3</th>\n      <td>A veces</td>\n      <td>Videos</td>\n      <td>Sí</td>\n      <td>Sí</td>\n      <td>NaN</td>\n      <td>NaN</td>\n      <td>NaN</td>\n      <td>A veces</td>\n      <td>Sí</td>\n      <td>No</td>\n      <td>Sí</td>\n    </tr>\n    <tr>\n      <th>4</th>\n      <td>Casi siempre</td>\n      <td>Videos;Paginas web</td>\n      <td>Sí</td>\n      <td>Sí</td>\n      <td>NaN</td>\n      <td>NaN</td>\n      <td>NaN</td>\n      <td>Casi siempre</td>\n      <td>Sí</td>\n      <td>Sí</td>\n      <td>No</td>\n    </tr>\n  </tbody>\n</table>\n</div>"
     },
     "execution_count": 13,
     "metadata": {},
     "output_type": "execute_result"
    }
   ],
   "source": [
    "df_clean.head()"
   ],
   "metadata": {
    "collapsed": false
   }
  },
  {
   "cell_type": "code",
   "execution_count": 14,
   "outputs": [],
   "source": [
    "from pathlib import Path\n",
    "\n",
    "file_path = Path('./Data/forms_cleaned.csv')\n",
    "file_path.parent.mkdir(parents=True, exist_ok=True)\n",
    "df_clean.to_csv(file_path, index=False)"
   ],
   "metadata": {
    "collapsed": false
   }
  },
  {
   "cell_type": "markdown",
   "source": [
    "# Read the cleaned data"
   ],
   "metadata": {
    "collapsed": false
   }
  },
  {
   "cell_type": "code",
   "execution_count": 17,
   "outputs": [],
   "source": [
    "df_clean_1 = pd.read_csv('./Data/forms_cleaned.csv')"
   ],
   "metadata": {
    "collapsed": false
   }
  },
  {
   "cell_type": "code",
   "execution_count": 18,
   "outputs": [
    {
     "name": "stdout",
     "output_type": "stream",
     "text": [
      "<class 'pandas.core.frame.DataFrame'>\n",
      "RangeIndex: 74 entries, 0 to 73\n",
      "Data columns (total 11 columns):\n",
      " #   Column                                                                                                                                               Non-Null Count  Dtype \n",
      "---  ------                                                                                                                                               --------------  ----- \n",
      " 0   ¿Con qué frecuencia practicas tu instrumento o canto?                                                                                                74 non-null     object\n",
      " 1   ¿Qué tipo de recursos utilizas para estudiar música?                                                                                                 74 non-null     object\n",
      " 2   ¿Conoce estudios de grabación y de producción musical en la ciudad de Cali?                                                                          74 non-null     object\n",
      " 3   ¿Ha asistido a estudios de grabación y/o de producción musical?                                                                                      74 non-null     object\n",
      " 4   ¿Por qué no asistes a estudios de grabación y/o de producción musical?                                                                               14 non-null     object\n",
      " 5   ¿Piensas que el costo/beneficio de los estudios de grabación y/o de producción musical es justo?                                                     14 non-null     object\n",
      " 6   ¿Que otras alternativas de estudios de grabación haz utilizado?                                                                                      14 non-null     object\n",
      " 7   ¿Que tan frecuente usa estos espacios?                                                                                                               60 non-null     object\n",
      " 8   ¿Piensas que los estudios de grabación y/o de producción musical da espacio para conocer a personas que puedan ayudar a tu crecimiento profesional?  60 non-null     object\n",
      " 9   ¿Piensas que el costo/beneficio de los estudios de grabación y/o de producción musical es justo?.1                                                   74 non-null     object\n",
      " 10  ¿Crees que hay suficientes oportunidades para los estudiantes de música para conectarse con otros músicos y colaborar en proyectos?                  74 non-null     object\n",
      "dtypes: object(11)\n",
      "memory usage: 6.5+ KB\n"
     ]
    }
   ],
   "source": [
    "df_clean_1.info()"
   ],
   "metadata": {
    "collapsed": false
   }
  },
  {
   "cell_type": "code",
   "execution_count": null,
   "outputs": [],
   "source": [],
   "metadata": {
    "collapsed": false
   }
  }
 ],
 "metadata": {
  "kernelspec": {
   "display_name": "Python 3",
   "language": "python",
   "name": "python3"
  },
  "language_info": {
   "codemirror_mode": {
    "name": "ipython",
    "version": 2
   },
   "file_extension": ".py",
   "mimetype": "text/x-python",
   "name": "python",
   "nbconvert_exporter": "python",
   "pygments_lexer": "ipython2",
   "version": "2.7.6"
  }
 },
 "nbformat": 4,
 "nbformat_minor": 0
}
